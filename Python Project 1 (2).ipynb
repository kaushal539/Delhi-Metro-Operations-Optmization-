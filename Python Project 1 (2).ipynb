{
 "cells": [
  {
   "cell_type": "code",
   "execution_count": 1,
   "id": "fd8eb31a-6e2c-4d09-a0f0-1b7532486dce",
   "metadata": {},
   "outputs": [
    {
     "name": "stdout",
     "output_type": "stream",
     "text": [
      "         Date       Open       High        Low      Close  Adj Close  \\\n",
      "0  01-04-2020  61.625000  62.180000  59.782501  60.227501  58.660294   \n",
      "1  02-04-2020  60.084999  61.287498  59.224998  61.232498  59.639145   \n",
      "2  03-04-2020  60.700001  61.424999  59.742500  60.352501  58.782043   \n",
      "3  06-04-2020  62.724998  65.777496  62.345001  65.617500  63.910053   \n",
      "4  07-04-2020  67.699997  67.925003  64.750000  64.857498  63.169811   \n",
      "\n",
      "        Volume  \n",
      "0  176218400.0  \n",
      "1  165934000.0  \n",
      "2  129880000.0  \n",
      "3  201820400.0  \n",
      "4  202887200.0  \n"
     ]
    }
   ],
   "source": [
    "import pandas as pd \n",
    "data = pd.read_csv('AXISBANK.csv')\n",
    "print(data.head())"
   ]
  },
  {
   "cell_type": "code",
   "execution_count": null,
   "id": "8c758ab6-5066-42c8-9a7b-816b55a28023",
   "metadata": {},
   "outputs": [],
   "source": []
  }
 ],
 "metadata": {
  "kernelspec": {
   "display_name": "Python 3 (ipykernel)",
   "language": "python",
   "name": "python3"
  },
  "language_info": {
   "codemirror_mode": {
    "name": "ipython",
    "version": 3
   },
   "file_extension": ".py",
   "mimetype": "text/x-python",
   "name": "python",
   "nbconvert_exporter": "python",
   "pygments_lexer": "ipython3",
   "version": "3.8.10"
  }
 },
 "nbformat": 4,
 "nbformat_minor": 5
}
